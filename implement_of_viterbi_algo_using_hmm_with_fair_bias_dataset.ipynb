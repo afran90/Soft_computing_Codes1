{
  "nbformat": 4,
  "nbformat_minor": 0,
  "metadata": {
    "colab": {
      "name": "implement_of_viterbi_algo_using_hmm_with_fair_bias_dataset.ipynb",
      "provenance": [],
      "collapsed_sections": [],
      "include_colab_link": true
    },
    "kernelspec": {
      "name": "python3",
      "display_name": "Python 3"
    }
  },
  "cells": [
    {
      "cell_type": "markdown",
      "metadata": {
        "id": "view-in-github",
        "colab_type": "text"
      },
      "source": [
        "<a href=\"https://colab.research.google.com/github/afran90/Soft_computing_Codes1/blob/master/implement_of_viterbi_algo_using_hmm_with_fair_bias_dataset.ipynb\" target=\"_parent\"><img src=\"https://colab.research.google.com/assets/colab-badge.svg\" alt=\"Open In Colab\"/></a>"
      ]
    },
    {
      "cell_type": "markdown",
      "metadata": {
        "id": "Y8mgWBc8iwFP",
        "colab_type": "text"
      },
      "source": [
        "LOAD INPUT\n",
        "HERE SAMPLE_DATASET TAKES TRAINING DATA AS AN INPUT"
      ]
    },
    {
      "cell_type": "code",
      "metadata": {
        "id": "773KLNyfx8KJ",
        "colab_type": "code",
        "colab": {}
      },
      "source": [
        "def input_data(sample_dataset):\n",
        "#pandas conversion \n",
        "  print('Upload Training Data',end='\\n')\n",
        "  import numpy as np\n",
        "  import pandas as pd\n",
        "\n",
        "  from google.colab import files\n",
        "  uploaded=files.upload()\n",
        "\n",
        "  import io\n",
        "  dataset=pd.read_csv(io.BytesIO(uploaded[sample_dataset]),sep=\"\\t\",header=None)\n",
        "\n",
        "\n",
        "  dataset.columns=['Game_Condition','Result']\n",
        "  \n",
        "  #print(dataset)\n",
        "\n",
        "  return dataset\n",
        "\n"
      ],
      "execution_count": 0,
      "outputs": []
    },
    {
      "cell_type": "markdown",
      "metadata": {
        "id": "JLHiDqIZjC0n",
        "colab_type": "text"
      },
      "source": [
        "FOR EMISSION MATRIX\n",
        ">CALCULATE THE PROBABILITY OF DIFFERENT TEST SAMPLE AND STORED IN EMMISION MATRIX"
      ]
    },
    {
      "cell_type": "code",
      "metadata": {
        "id": "oWdGz1X1jKwh",
        "colab_type": "code",
        "colab": {}
      },
      "source": [
        "def emission_matrix_calculate(trainData):\n",
        "  print('Now in Emission_Matrix Function:',end='\\n')\n",
        "\n",
        "  import numpy as np\n",
        "  import pandas as pd\n",
        "\n",
        "  #Calculate Tota;_cheat and Total_Fair\n",
        "  s=trainData.groupby('Game_Condition').count()\n",
        "  print(s)\n",
        "  #print(type(s))\n",
        "  total_cheat=s['Result'][0]\n",
        "  total_fair=s['Result'][1]\n",
        "\n",
        "  print('Total Cheat=',total_cheat,'Total_Fair=',total_fair)\n",
        "\n",
        "  s=trainData.groupby(\"Game_Condition\")[\"Result\"].value_counts()\n",
        "  print(s)\n",
        "  print(s[0],s[1],s[2],s[3])\n",
        "#Emission Matrix\n",
        "  Emission_Matrix=[[],[]]\n",
        "  Emission_Matrix[0].append(s[0]/total_cheat)\n",
        "  Emission_Matrix[0].append(s[1]/total_cheat)\n",
        "\n",
        "  Emission_Matrix[1].append(s[2]/total_fair)\n",
        "  Emission_Matrix[1].append(s[3]/total_fair)\n",
        "\n",
        "  \n",
        "  Emission_Matrix=np.array(Emission_Matrix)\n",
        "  Emission_Matrix\n",
        "\n",
        "#Log\n",
        "\n",
        "  Emission_Matrix=np.log2(Emission_Matrix)\n",
        "  print('Emission Matrix',end='\\n')\n",
        "  print(Emission_Matrix)\n",
        "\n",
        "\n",
        "  return Emission_Matrix\n"
      ],
      "execution_count": 0,
      "outputs": []
    },
    {
      "cell_type": "markdown",
      "metadata": {
        "id": "ZpGgU6eGjYyr",
        "colab_type": "text"
      },
      "source": [
        "FOR TRANSITION MATRIX\n",
        "> CALCULATE THE PROBABILITY OF DIFFERENT STATE TRANSITION FOR TRAINING DATA\n",
        " AND VALUE STORED IN TRANSITION MATRIX FOR FURTHER CALCULATION\n"
      ]
    },
    {
      "cell_type": "code",
      "metadata": {
        "id": "uwuMYpVJjgf6",
        "colab_type": "code",
        "colab": {}
      },
      "source": [
        "def transition_matrix_count(trainData):\n",
        "  print('Now in Transition_Matrix Function:',end='\\n')\n",
        "  import numpy as np\n",
        "  import pandas as pd\n",
        "\n",
        "   #Calculate Total_cheat and Total_Fair\n",
        "  s=trainData.groupby('Game_Condition').count()\n",
        "  print(s)\n",
        "  #print(type(s))\n",
        "  total_cheat=s['Result'][0]\n",
        "  total_fair=s['Result'][1]\n",
        "\n",
        "  print('Total Cheat=',total_cheat,'Total_Fair=',total_fair)\n",
        "\n",
        "      #Transition Matrix\n",
        "  dummy=trainData\n",
        "  #drop column \n",
        "  dummy=dummy.drop(['Result'],axis=1)\n",
        "\n",
        "  dummy['Next_Game_Condition']=dummy['Game_Condition'].shift(-1)\n",
        "  Modified_dataset=dummy\n",
        "  print(Modified_dataset)\n",
        "\n",
        "  #Transition Matrix\n",
        "  s=Modified_dataset.groupby(\"Game_Condition\")[\"Next_Game_Condition\"].value_counts()\n",
        "  print(s)\n",
        "  print(s[0],s[1],s[2],s[3])\n",
        "\n",
        "  Transition_Matrix=[[],[]]\n",
        "\n",
        "  Transition_Matrix[0].append(s[0]/(total_cheat))#As for last data sample we dont know the next condition..and the last data sample is cheat.So 1 is subtracted\n",
        "  Transition_Matrix[0].append(s[1]/(total_cheat))\n",
        "  Transition_Matrix[1].append(s[2]/(total_fair-1))\n",
        "  Transition_Matrix[1].append(s[3]/(total_fair-1))\n",
        "\n",
        "  \n",
        "  Transition_Matrix=np.array(Transition_Matrix)\n",
        "  print('Transition Matrix',end='\\n')\n",
        "#log\n",
        "  Transition_Matrix=np.log2(Transition_Matrix)\n",
        "  print(Transition_Matrix)\n",
        "  return Transition_Matrix"
      ],
      "execution_count": 0,
      "outputs": []
    },
    {
      "cell_type": "markdown",
      "metadata": {
        "id": "zEDuzR7_kGi4",
        "colab_type": "text"
      },
      "source": [
        "INPUT_OBSERVATION FUNCTION TAKES TESTING DATA SET"
      ]
    },
    {
      "cell_type": "code",
      "metadata": {
        "id": "scWDDStKkK6o",
        "colab_type": "code",
        "colab": {}
      },
      "source": [
        "def input_observation(testingData):\n",
        "  print('Upload Testing Data',end='\\n')\n",
        "  from google.colab import files\n",
        "  uploaded=files.upload()\n",
        "  import io\n",
        "  import numpy as np\n",
        "  import pandas as pd\n",
        "  \n",
        "\n",
        "  testing_dataset=pd.read_csv(io.BytesIO(uploaded[testingData]),sep=\"\\t\",header=None)\n",
        "\n",
        "  return testing_dataset"
      ],
      "execution_count": 0,
      "outputs": []
    },
    {
      "cell_type": "markdown",
      "metadata": {
        "id": "H_O6IZP2kkhN",
        "colab_type": "text"
      },
      "source": [
        "IMPLEMENT HMM USING THE VITERBI ALGORITHM\n",
        ">Reference:\n",
        "Murphy, Kevin P. Machine Learning: A Probabilistic Perspective. MIT press, 2012."
      ]
    },
    {
      "cell_type": "markdown",
      "metadata": {
        "id": "Ax_FsRV8mQU4",
        "colab_type": "text"
      },
      "source": [
        "![alt text](https://drive.google.com/uc?id=1J9yuHGxAKhbX67x_lmFylPzeZAKkm7Ns)"
      ]
    },
    {
      "cell_type": "code",
      "metadata": {
        "id": "ub4H5lg2kyAs",
        "colab_type": "code",
        "colab": {}
      },
      "source": [
        "def viterbi(testing_dataset, Emission_Matrix, Intial_Matrix, Transition_Matrix):\n",
        "  \n",
        "  print('Now in Viterbi Function:',end='\\n')\n",
        "\n",
        "  import io\n",
        "  import numpy as np\n",
        "  testing_sample_size=testing_dataset.size\n",
        "  print(testing_sample_size)\n",
        "\n",
        "  Fair=np.zeros(testing_sample_size)\n",
        "  Cheat=np.zeros(testing_sample_size)\n",
        "\n",
        "  #Intiial Values of Fair And Cheat\n",
        "\n",
        "#Emission_Matrix[0][0]=Condition=Cheat,Result=Lose\n",
        "#Emission_Matrix[0][1]=Condition=Cheat,Result=Win\n",
        "#Emission_Matrix[1][0]=Condition=Fair,Result=Win\n",
        "#Emission_Matrix[1][1]=Condition=Fair,Result=Lose\n",
        "\n",
        "\n",
        "  Initial_Sample=testing_dataset[0][0]\n",
        "\n",
        "  if (Initial_Sample=='win'):\n",
        "    Fair[0]=np.add(Intial_Matrix[1],Emission_Matrix[1][0])\n",
        "    Cheat[0]=np.add(Intial_Matrix[0],Emission_Matrix[0][1])\n",
        "\n",
        "\n",
        "  if(Initial_Sample=='lose'):\n",
        "    Fair[0]=np.add(Intial_Matrix[1],Emission_Matrix[1][1])\n",
        "    Cheat[0]=np.add(Intial_Matrix[1],Emission_Matrix[0][0])\n",
        "\n",
        "\n",
        "  for i in range(1,testing_sample_size):\n",
        "    dummy_fair_fair=1\n",
        "    dummy_fair_cheat=1\n",
        "    dummy_cheat_cheat=1\n",
        "    dummy_cheat_fair=1\n",
        "\n",
        "    Next_State=testing_dataset[0][i]\n",
        "    \n",
        "#Transition_Matrix[0][0]=Present Condition=Cheat,Next Condition=Cheat\n",
        "\n",
        "#Transition_Matrix[0][1]=Present Condition=Cheat,Next Condition=Fair\n",
        "\n",
        "#Transition_Matrix[1][0]=Present Condition=Fair,Next Condition=Fair\n",
        "\n",
        "#Transition_Matrix[1][1]=Present Condition=Fair,Next Condition=Cheat\n",
        "\n",
        "  #considering next condition is Fair\n",
        "\n",
        "    if(Next_State=='win'):\n",
        "    \n",
        "      dummy_fair_fair=np.add(np.add(Fair[i-1],Transition_Matrix[1][0]),Emission_Matrix[1][0])\n",
        "      dummy_cheat_fair=np.add(np.add(Cheat[i-1],Transition_Matrix[0][1]),Emission_Matrix[1][0])\n",
        "  \n",
        "      Fair[i]=np.maximum(dummy_fair_fair,dummy_cheat_fair)    \n",
        "  \n",
        "    if(Next_State=='lose'):\n",
        "      dummy_fair_fair=np.add(np.add(Fair[i-1],Transition_Matrix[1][0]),Emission_Matrix[1][1])\n",
        "      dummy_cheat_fair=np.add(np.add(Cheat[i-1],Transition_Matrix[0][1]),Emission_Matrix[1][1])\n",
        "\n",
        "      Fair[i]=np.maximum(dummy_fair_fair,dummy_cheat_fair)\n",
        "  \n",
        "  #considering next condition is Cheat\n",
        "\n",
        "    if(Next_State=='win'):\n",
        "      dummy_cheat_cheat=np.add(np.add(Cheat[i-1],Transition_Matrix[0][0]),Emission_Matrix[0][1])\n",
        "      dummy_fair_cheat=np.add(np.add(Fair[i-1],Transition_Matrix[1][1]),Emission_Matrix[0][1])\n",
        "\n",
        "      Cheat[i]=np.maximum(dummy_cheat_cheat,dummy_fair_cheat)\n",
        "\n",
        "    if(Next_State=='lose'):\n",
        "      dummy_cheat_cheat=np.add(np.add(Cheat[i-1],Transition_Matrix[0][0]),Emission_Matrix[0][0])\n",
        "      dummy_fair_cheat=np.add(np.add(Fair[i-1],Transition_Matrix[1][1]),Emission_Matrix[0][0])\n",
        "\n",
        "      Cheat[i]=np.maximum(dummy_cheat_cheat,dummy_fair_cheat)\n",
        "\n",
        "  print(Cheat.size)\n",
        "  print(Fair.size)\n",
        "\n",
        "\n",
        "  Output_Matrix=[]\n",
        "  for i in range(testing_sample_size):\n",
        "    if(Fair[i]>Cheat[i]):\n",
        "      Output_Matrix.append('Fair')\n",
        "    if(Fair[i]<Cheat[i]):\n",
        "      Output_Matrix.append('Cheat')  \n",
        "\n",
        "  Output_Matrix=np.array(Output_Matrix)\n",
        "  print(Output_Matrix.size)\n",
        "  #Resulting dataframe\n",
        "  Resulting_dataset=testing_dataset\n",
        "  Resulting_dataset.columns=['Result']\n",
        "  Resulting_dataset['Condition']=Output_Matrix\n",
        "  \n",
        "  \n",
        "  print(Resulting_dataset)\n",
        "\n",
        "  s=Resulting_dataset.groupby(\"Result\")[\"Condition\"].value_counts()\n",
        "  print(s)\n",
        "\n",
        "  #print Fair and Cheat\n",
        "\n",
        "  return Resulting_dataset  \n"
      ],
      "execution_count": 0,
      "outputs": []
    },
    {
      "cell_type": "markdown",
      "metadata": {
        "id": "i6F57kqsk06m",
        "colab_type": "text"
      },
      "source": [
        "MAIN FUNCTION"
      ]
    },
    {
      "cell_type": "code",
      "metadata": {
        "id": "EItmDa9Sg7Wv",
        "colab_type": "code",
        "outputId": "cf1131ca-12ab-421e-b8ff-587d7b4456ec",
        "colab": {
          "resources": {
            "http://localhost:8080/nbextensions/google.colab/files.js": {
              "data": "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",
              "ok": true,
              "headers": [
                [
                  "content-type",
                  "application/javascript"
                ]
              ],
              "status": 200,
              "status_text": ""
            }
          },
          "base_uri": "https://localhost:8080/",
          "height": 1000
        }
      },
      "source": [
        "def main():\n",
        "\n",
        "    import numpy as np\n",
        "    import pandas as pd\n",
        "\n",
        "    print('Now in Main Function:',end='\\n')\n",
        "\n",
        "    sample_dataset = \"training_Pyramid_1000.data.txt\"  \n",
        "    testing_data = \"testing_Pyramid_1000.data.txt\"     \n",
        "   \n",
        "    trainData = input_data(sample_dataset)\n",
        "    observations = input_observation(testing_data)\n",
        "    initial_pro = np.array([0.5, 0.5])\n",
        "    initial_pro=np.log2(initial_pro)\n",
        "\n",
        "\n",
        "    Emission_Matrix = emission_matrix_calculate(trainData)\n",
        "    Transition_Matrix = transition_matrix_count(trainData)\n",
        "\n",
        "    print(\"Transition Matrix\\n\", Transition_Matrix)\n",
        "    print(\"Emission Matrix\\n\", Emission_Matrix)\n",
        "    print(\"Initial Matrix\\n\", initial_pro)\n",
        "\n",
        "\n",
        "\n",
        "    #score, final_output = viterbi(observations, emission_matrix, initial_pro, transition_matrix)\n",
        "    final_output = viterbi(observations, Emission_Matrix, initial_pro, Transition_Matrix)\n",
        "\n",
        "    print(final_output)\n",
        "\n",
        "    final_output.to_csv('pyramid_resulting_dataset.csv')\n",
        "    from google.colab import files\n",
        "    files.download('pyramid_resulting_dataset.csv')\n",
        "\n",
        "main()"
      ],
      "execution_count": 0,
      "outputs": [
        {
          "output_type": "stream",
          "text": [
            "Now in Main Function:\n",
            "Upload Training Data\n"
          ],
          "name": "stdout"
        },
        {
          "output_type": "display_data",
          "data": {
            "text/html": [
              "\n",
              "     <input type=\"file\" id=\"files-f1083c74-cd6c-45f0-82c9-efcd7842d363\" name=\"files[]\" multiple disabled />\n",
              "     <output id=\"result-f1083c74-cd6c-45f0-82c9-efcd7842d363\">\n",
              "      Upload widget is only available when the cell has been executed in the\n",
              "      current browser session. Please rerun this cell to enable.\n",
              "      </output>\n",
              "      <script src=\"/nbextensions/google.colab/files.js\"></script> "
            ],
            "text/plain": [
              "<IPython.core.display.HTML object>"
            ]
          },
          "metadata": {
            "tags": []
          }
        },
        {
          "output_type": "stream",
          "text": [
            "Saving training_Pyramid_1000.data.txt to training_Pyramid_1000.data (3).txt\n",
            "Upload Testing Data\n"
          ],
          "name": "stdout"
        },
        {
          "output_type": "display_data",
          "data": {
            "text/html": [
              "\n",
              "     <input type=\"file\" id=\"files-2bba65da-0cd8-41cf-acf2-1aa7bc8d6dda\" name=\"files[]\" multiple disabled />\n",
              "     <output id=\"result-2bba65da-0cd8-41cf-acf2-1aa7bc8d6dda\">\n",
              "      Upload widget is only available when the cell has been executed in the\n",
              "      current browser session. Please rerun this cell to enable.\n",
              "      </output>\n",
              "      <script src=\"/nbextensions/google.colab/files.js\"></script> "
            ],
            "text/plain": [
              "<IPython.core.display.HTML object>"
            ]
          },
          "metadata": {
            "tags": []
          }
        },
        {
          "output_type": "stream",
          "text": [
            "Saving testing_Pyramid_1000.data.txt to testing_Pyramid_1000.data (3).txt\n",
            "Now in Emission_Matrix Function:\n",
            "                Result\n",
            "Game_Condition        \n",
            "cheat              488\n",
            "fair               512\n",
            "Total Cheat= 488 Total_Fair= 512\n",
            "Game_Condition  Result\n",
            "cheat           lose      343\n",
            "                win       145\n",
            "fair            win       274\n",
            "                lose      238\n",
            "Name: Result, dtype: int64\n",
            "343 145 274 238\n",
            "Emission Matrix\n",
            "[[-0.50867257 -1.75082825]\n",
            " [-0.90196792 -1.10518224]]\n",
            "Now in Transition_Matrix Function:\n",
            "                Result\n",
            "Game_Condition        \n",
            "cheat              488\n",
            "fair               512\n",
            "Total Cheat= 488 Total_Fair= 512\n",
            "    Game_Condition Next_Game_Condition\n",
            "0             fair                fair\n",
            "1             fair                fair\n",
            "2             fair               cheat\n",
            "3            cheat               cheat\n",
            "4            cheat               cheat\n",
            "..             ...                 ...\n",
            "995           fair               cheat\n",
            "996          cheat                fair\n",
            "997           fair               cheat\n",
            "998          cheat                fair\n",
            "999           fair                 NaN\n",
            "\n",
            "[1000 rows x 2 columns]\n",
            "Game_Condition  Next_Game_Condition\n",
            "cheat           cheat                  346\n",
            "                fair                   142\n",
            "fair            fair                   369\n",
            "                cheat                  142\n",
            "Name: Next_Game_Condition, dtype: int64\n",
            "346 142 369 142\n",
            "Transition Matrix\n",
            "[[-0.49610911 -1.78099022]\n",
            " [-0.46970247 -1.84743236]]\n",
            "Transition Matrix\n",
            " [[-0.49610911 -1.78099022]\n",
            " [-0.46970247 -1.84743236]]\n",
            "Emission Matrix\n",
            " [[-0.50867257 -1.75082825]\n",
            " [-0.90196792 -1.10518224]]\n",
            "Initial Matrix\n",
            " [-1. -1.]\n",
            "Now in Viterbi Function:\n",
            "1000\n",
            "1000\n",
            "1000\n",
            "1000\n",
            "    Result Condition\n",
            "0     lose     Cheat\n",
            "1     lose     Cheat\n",
            "2     lose     Cheat\n",
            "3     lose     Cheat\n",
            "4      win     Cheat\n",
            "..     ...       ...\n",
            "995   lose     Cheat\n",
            "996    win     Cheat\n",
            "997    win      Fair\n",
            "998    win      Fair\n",
            "999    win      Fair\n",
            "\n",
            "[1000 rows x 2 columns]\n",
            "Result  Condition\n",
            "lose    Cheat        408\n",
            "        Fair         196\n",
            "win     Fair         300\n",
            "        Cheat         96\n",
            "Name: Condition, dtype: int64\n",
            "    Result Condition\n",
            "0     lose     Cheat\n",
            "1     lose     Cheat\n",
            "2     lose     Cheat\n",
            "3     lose     Cheat\n",
            "4      win     Cheat\n",
            "..     ...       ...\n",
            "995   lose     Cheat\n",
            "996    win     Cheat\n",
            "997    win      Fair\n",
            "998    win      Fair\n",
            "999    win      Fair\n",
            "\n",
            "[1000 rows x 2 columns]\n"
          ],
          "name": "stdout"
        }
      ]
    },
    {
      "cell_type": "code",
      "metadata": {
        "id": "dG8JRF2TU9k9",
        "colab_type": "code",
        "colab": {}
      },
      "source": [
        ""
      ],
      "execution_count": 0,
      "outputs": []
    }
  ]
}